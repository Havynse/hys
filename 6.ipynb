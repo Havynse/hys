{
  "nbformat": 4,
  "nbformat_minor": 0,
  "metadata": {
    "colab": {
      "name": "Untitled1.ipynb",
      "provenance": [],
      "include_colab_link": true
    },
    "kernelspec": {
      "name": "python3",
      "display_name": "Python 3"
    }
  },
  "cells": [
    {
      "cell_type": "markdown",
      "metadata": {
        "id": "view-in-github",
        "colab_type": "text"
      },
      "source": [
        "<a href=\"https://colab.research.google.com/github/Havynse/hys/blob/master/6.ipynb\" target=\"_parent\"><img src=\"https://colab.research.google.com/assets/colab-badge.svg\" alt=\"Open In Colab\"/></a>"
      ]
    },
    {
      "cell_type": "code",
      "metadata": {
        "id": "10BChMFtSAIq",
        "colab_type": "code",
        "colab": {
          "base_uri": "https://localhost:8080/",
          "height": 101
        },
        "outputId": "10510202-142d-4873-e5c7-75030a40b514"
      },
      "source": [
        "def speedparameter(speed,limit):\n",
        "  if speed > 90:\n",
        "    return print(\"penalty of 200$ for speeding over 90 mph\",50 + ((speed - limit)*5))\n",
        "  elif speed > limit:\n",
        "    return print(\"your fine is $:\",50 + ((speed - limit) * 5))\n",
        "  else:\n",
        "    return print(\"your speed is legal.\")\n",
        "def main():\n",
        "  print(\"program that accepts a speed limit and a clocked speed and either prints a message indicating the speed was legal or prints the amount of the fine, if the speed is illegal\")\n",
        "  speed = eval(input(\"your speed:\"))\n",
        "  limit = eval(input(\"speed limit:\"))\n",
        "  print(speedparameter(speed,limit))\n",
        "main()"
      ],
      "execution_count": 7,
      "outputs": [
        {
          "output_type": "stream",
          "text": [
            "program that accepts a speed limit and a clocked speed and either prints a message indicating the speed was legal or prints the amount of the fine, if the speed is illegal\n",
            "your speed:50\n",
            "speed limit:40\n",
            "your fine is $: 100\n",
            "None\n"
          ],
          "name": "stdout"
        }
      ]
    }
  ]
}