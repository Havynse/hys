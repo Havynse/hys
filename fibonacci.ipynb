{
  "nbformat": 4,
  "nbformat_minor": 0,
  "metadata": {
    "colab": {
      "name": "Untitled7.ipynb",
      "provenance": [],
      "include_colab_link": true
    },
    "kernelspec": {
      "name": "python3",
      "display_name": "Python 3"
    }
  },
  "cells": [
    {
      "cell_type": "markdown",
      "metadata": {
        "id": "view-in-github",
        "colab_type": "text"
      },
      "source": [
        "<a href=\"https://colab.research.google.com/github/Havynse/hys/blob/master/fibonacci.ipynb\" target=\"_parent\"><img src=\"https://colab.research.google.com/assets/colab-badge.svg\" alt=\"Open In Colab\"/></a>"
      ]
    },
    {
      "cell_type": "code",
      "metadata": {
        "id": "UCpYY0wIAcY2",
        "colab_type": "code",
        "colab": {
          "base_uri": "https://localhost:8080/",
          "height": 50
        },
        "outputId": "1bcb3bf6-5339-4dbe-d64c-5385dbe683ab"
      },
      "source": [
        "print(\" program that computes and outputs the nth Fibonacci number, where n is a value entered by the user. \n",
        "2\")\n",
        "a = 1\n",
        "b = 1\n",
        "n=float(input(\"fibonacci number:\"))\n",
        "n=int(n-2)\n",
        "for i in range (n):\n",
        "    a,b=b,a+b\n",
        "print(b)   "
      ],
      "execution_count": 21,
      "outputs": [
        {
          "output_type": "stream",
          "text": [
            "fibonacci number:3\n",
            "2\n"
          ],
          "name": "stdout"
        }
      ]
    }
  ]
}