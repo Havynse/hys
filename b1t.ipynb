{
  "nbformat": 4,
  "nbformat_minor": 0,
  "metadata": {
    "colab": {
      "name": "Untitled6.ipynb",
      "provenance": [],
      "include_colab_link": true
    },
    "kernelspec": {
      "name": "python3",
      "display_name": "Python 3"
    }
  },
  "cells": [
    {
      "cell_type": "markdown",
      "metadata": {
        "id": "view-in-github",
        "colab_type": "text"
      },
      "source": [
        "<a href=\"https://colab.research.google.com/github/Havynse/hys/blob/master/b1t.ipynb\" target=\"_parent\"><img src=\"https://colab.research.google.com/assets/colab-badge.svg\" alt=\"Open In Colab\"/></a>"
      ]
    },
    {
      "cell_type": "code",
      "metadata": {
        "id": "XUAeWbYZr7qa",
        "colab_type": "code",
        "colab": {
          "base_uri": "https://localhost:8080/",
          "height": 185
        },
        "outputId": "308b7374-5370-4fef-99ed-5fe52e2e0d15"
      },
      "source": [
        "counter = 1\n",
        "n = 5 \n",
        "while counter <= n:\n",
        "     print(\"hello world\")\n",
        "     counter = counter + 1\n",
        "     print(\"finished!!\")\n"
      ],
      "execution_count": 2,
      "outputs": [
        {
          "output_type": "stream",
          "text": [
            "hello world\n",
            "finished!!\n",
            "hello world\n",
            "finished!!\n",
            "hello world\n",
            "finished!!\n",
            "hello world\n",
            "finished!!\n",
            "hello world\n",
            "finished!!\n"
          ],
          "name": "stdout"
        }
      ]
    },
    {
      "cell_type": "code",
      "metadata": {
        "id": "TIf4okIxvbMA",
        "colab_type": "code",
        "colab": {}
      },
      "source": [
        ""
      ],
      "execution_count": 0,
      "outputs": []
    },
    {
      "cell_type": "code",
      "metadata": {
        "id": "IKXB2t1Ctk_k",
        "colab_type": "code",
        "colab": {
          "base_uri": "https://localhost:8080/",
          "height": 101
        },
        "outputId": "5e9b1f37-fb74-4c99-cd47-6926f6018a0d"
      },
      "source": [
        "for counter in range (5):\n",
        "    print(\"Hello world!!!\")"
      ],
      "execution_count": 5,
      "outputs": [
        {
          "output_type": "stream",
          "text": [
            "Hello world!!!\n",
            "Hello world!!!\n",
            "Hello world!!!\n",
            "Hello world!!!\n",
            "Hello world!!!\n"
          ],
          "name": "stdout"
        }
      ]
    },
    {
      "cell_type": "code",
      "metadata": {
        "id": "nushKoki3ab_",
        "colab_type": "code",
        "colab": {
          "base_uri": "https://localhost:8080/",
          "height": 118
        },
        "outputId": "7d95f5d4-e72b-4899-f227-d9a738c1dd19"
      },
      "source": [
        "import getpass\n",
        "flag = False\n",
        "while not flag:\n",
        "    u = input(\"Username: \")\n",
        "    p = getpass.getpass(prompt=\"Password: \")\n",
        "    flag = u == \"peter\" and p== \"12345\"\n",
        "    if flag:\n",
        "       print(\"you logged into the system.\")\n",
        "else:\n",
        "    print(\"Either username or password is wrong.\")\n",
        "    ch = input(\"Do you want to continue? (y/n)\")\n",
        "    flag = ch == \"N\" or ch == \"n\"\n",
        "print(\"Finished!\")          "
      ],
      "execution_count": 18,
      "outputs": [
        {
          "output_type": "stream",
          "text": [
            "Username: peter\n",
            "Password: ··········\n",
            "you logged into the system.\n",
            "Either username or password is wrong.\n",
            "Do you want to continue? (y/n)N\n",
            "Finished!\n"
          ],
          "name": "stdout"
        }
      ]
    },
    {
      "cell_type": "code",
      "metadata": {
        "id": "mPeGKXSSDvFg",
        "colab_type": "code",
        "colab": {
          "base_uri": "https://localhost:8080/",
          "height": 84
        },
        "outputId": "2431a1bb-15af-4a2f-f6ea-36af4fb4a694"
      },
      "source": [
        "hours = float(input(\"the number of hours worked:\"))\n",
        "rate = float(input(\"the hourly rate:\"))\n",
        "print(\"your wage for the week is $\")\n",
        "if hours <= 40:\n",
        "   print(hours * rate)\n",
        "else:\n",
        "  # overtime = (hours-40)*overtimerate\n",
        "  #  overtime = 1.5*rate\n",
        "   print(40 * 10 + (hours - 40)* 1.5 * rate)\n",
        "\n",
        "   "
      ],
      "execution_count": 22,
      "outputs": [
        {
          "output_type": "stream",
          "text": [
            "the number of hours worked:50\n",
            "the hourly rate:2\n",
            "your wage for the week is $\n",
            "430.0\n"
          ],
          "name": "stdout"
        }
      ]
    }
  ]
}