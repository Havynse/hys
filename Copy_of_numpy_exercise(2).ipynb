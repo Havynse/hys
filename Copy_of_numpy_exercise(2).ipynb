{
  "nbformat": 4,
  "nbformat_minor": 0,
  "metadata": {
    "colab": {
      "name": "Copy of numpy-exercise.ipynb",
      "provenance": [],
      "collapsed_sections": [],
      "include_colab_link": true
    },
    "kernelspec": {
      "name": "python3",
      "display_name": "Python 3"
    }
  },
  "cells": [
    {
      "cell_type": "markdown",
      "metadata": {
        "id": "view-in-github",
        "colab_type": "text"
      },
      "source": [
        "<a href=\"https://colab.research.google.com/github/Havynse/hys/blob/master/Copy_of_numpy_exercise(2).ipynb\" target=\"_parent\"><img src=\"https://colab.research.google.com/assets/colab-badge.svg\" alt=\"Open In Colab\"/></a>"
      ]
    },
    {
      "cell_type": "markdown",
      "metadata": {
        "id": "OqL2qtoMuNjg",
        "colab_type": "text"
      },
      "source": [
        "**NUMPY EXERCISE**"
      ]
    },
    {
      "cell_type": "markdown",
      "metadata": {
        "id": "u1uiw0epuTOA",
        "colab_type": "text"
      },
      "source": [
        "**1. Import Numpy**"
      ]
    },
    {
      "cell_type": "code",
      "metadata": {
        "id": "t3xdpquPuKG8",
        "colab_type": "code",
        "colab": {}
      },
      "source": [
        "import numpy as np"
      ],
      "execution_count": 0,
      "outputs": []
    },
    {
      "cell_type": "markdown",
      "metadata": {
        "id": "eA85IxSAubUP",
        "colab_type": "text"
      },
      "source": [
        "**2. Manually create a matrix**\n",
        "\n",
        "Create a 3-by-5 matrix and print it out to the screen"
      ]
    },
    {
      "cell_type": "code",
      "metadata": {
        "id": "Gs0bbL7FuZ6-",
        "colab_type": "code",
        "outputId": "e515dca8-043d-40d7-b8c3-e4e9a3b04f48",
        "colab": {
          "base_uri": "https://localhost:8080/",
          "height": 67
        }
      },
      "source": [
        "import numpy as np \n",
        "\n",
        "a = np.array([[1,2,3,4,10],[4,5,6,7,9],[4,6,5,3,4]]) \n",
        "a.shape = (3,5) \n",
        "print (a)"
      ],
      "execution_count": 0,
      "outputs": [
        {
          "output_type": "stream",
          "text": [
            "[[ 1  2  3  4 10]\n",
            " [ 4  5  6  7  9]\n",
            " [ 4  6  5  3  4]]\n"
          ],
          "name": "stdout"
        }
      ]
    },
    {
      "cell_type": "markdown",
      "metadata": {
        "id": "fQyJbHBUu1SY",
        "colab_type": "text"
      },
      "source": [
        "**3. Manually create a vector**\n",
        "\n",
        "Create a vector which has 10 elements and print it out to the screen"
      ]
    },
    {
      "cell_type": "code",
      "metadata": {
        "id": "cWpVwEK4vAvM",
        "colab_type": "code",
        "outputId": "86ad543f-2aed-4ac8-af10-aa36f1a0d5cf",
        "colab": {
          "base_uri": "https://localhost:8080/",
          "height": 34
        }
      },
      "source": [
        "import numpy as np\n",
        "vector = np.arange(1,11)\n",
        "print(vector)"
      ],
      "execution_count": 0,
      "outputs": [
        {
          "output_type": "stream",
          "text": [
            "[ 1  2  3  4  5  6  7  8  9 10]\n"
          ],
          "name": "stdout"
        }
      ]
    },
    {
      "cell_type": "markdown",
      "metadata": {
        "id": "djvBbsRuvz1J",
        "colab_type": "text"
      },
      "source": [
        "**4. Automatically create matrix**\n",
        "\n",
        "\n",
        "\n",
        "1.   Automatically create a 3-by-5 matrix which has interger values in the range of [0, 100]\n",
        "2.   Automatically create a 5-by-7 matrix which has interger values in the range of [0, 100]\n",
        "3.   Print out the above 2 matricces to the screen\n",
        "4.   Implementy matrix multiplication of the above 2 matrices and print the result to the screen (let us call this result matrixx is C)\n",
        "\n",
        "\n"
      ]
    },
    {
      "cell_type": "code",
      "metadata": {
        "id": "glYQOrmvvCtI",
        "colab_type": "code",
        "outputId": "90635a34-c9c1-4e84-e0ca-19fd825211c6",
        "colab": {
          "base_uri": "https://localhost:8080/",
          "height": 202
        }
      },
      "source": [
        "import numpy as np\n",
        "a = np.random.randint(0,100,size=(3,5))\n",
        "b = np.random.randint(0,100,size=(5,7))\n",
        "print(a)\n",
        "print(b)\n",
        "c = a.dot(b)\n",
        "c"
      ],
      "execution_count": 2,
      "outputs": [
        {
          "output_type": "stream",
          "text": [
            "[[41 89 21 78 91]\n",
            " [11  0 85 79  6]\n",
            " [57 19 43 59 33]]\n",
            "[[83 45 97 40 53 37 80]\n",
            " [57 45  6 49 89 60 60]\n",
            " [93 48 89 82 99 94 98]\n",
            " [35 29 14 93 39 54 89]\n",
            " [31  6 86 48 94  9 22]]\n"
          ],
          "name": "stdout"
        },
        {
          "output_type": "execute_result",
          "data": {
            "text/plain": [
              "array([[15980,  9666, 15298, 19345, 23769, 13862, 19622],\n",
              "       [11769,  6902, 10254, 15045, 12643, 12717, 16373],\n",
              "       [12901,  7393, 13134, 13808, 14372, 10774, 15891]])"
            ]
          },
          "metadata": {
            "tags": []
          },
          "execution_count": 2
        }
      ]
    },
    {
      "cell_type": "markdown",
      "metadata": {
        "id": "ZfugKrn7woVg",
        "colab_type": "text"
      },
      "source": [
        "**5. Scalar multiplication**\n",
        "\n",
        "Input a number fromm keyboard and multiply this number with the above matrix C and print the result to the screen"
      ]
    },
    {
      "cell_type": "code",
      "metadata": {
        "id": "jj2Mhfiownrx",
        "colab_type": "code",
        "outputId": "2a7351c9-3d94-4367-bf5c-d814ef89327d",
        "colab": {
          "base_uri": "https://localhost:8080/",
          "height": 101
        }
      },
      "source": [
        "d = c * 4\n",
        "c"
      ],
      "execution_count": 0,
      "outputs": [
        {
          "output_type": "execute_result",
          "data": {
            "text/plain": [
              "array([[2964,  774,  936, 8370,  405, 5229, 1749],\n",
              "       [  48, 2805, 2511,  816, 5490, 1320, 2772],\n",
              "       [ 162, 3944, 2449, 1190, 1701, 1728,  403],\n",
              "       [1728,   82,  323, 2627, 1073, 4275, 5124],\n",
              "       [ 798, 2030,  240,  741, 2233,  324, 5452]])"
            ]
          },
          "metadata": {
            "tags": []
          },
          "execution_count": 7
        }
      ]
    },
    {
      "cell_type": "markdown",
      "metadata": {
        "id": "Wo4C0TufxEuo",
        "colab_type": "text"
      },
      "source": [
        "**6. Automatically create vector**\n",
        "\n",
        "Automattically create a vector at size of 7-by-1 which has values in the range of [-10, 30]. And multiply the C matrix with this vector. Print the result to the screen."
      ]
    },
    {
      "cell_type": "code",
      "metadata": {
        "id": "hJX6N94cxD1f",
        "colab_type": "code",
        "outputId": "c070b15d-a7f0-42d9-ecc6-7126a777e714",
        "colab": {
          "base_uri": "https://localhost:8080/",
          "height": 134
        }
      },
      "source": [
        "vec = np.random.randint(-10,30,size=(7,1))\n",
        "vec"
      ],
      "execution_count": 0,
      "outputs": [
        {
          "output_type": "execute_result",
          "data": {
            "text/plain": [
              "array([[28],\n",
              "       [-5],\n",
              "       [ 1],\n",
              "       [29],\n",
              "       [ 0],\n",
              "       [ 9],\n",
              "       [15]])"
            ]
          },
          "metadata": {
            "tags": []
          },
          "execution_count": 9
        }
      ]
    },
    {
      "cell_type": "markdown",
      "metadata": {
        "id": "WMTN3Bmlxn7p",
        "colab_type": "text"
      },
      "source": [
        "**7. Matrix slicing**\n",
        "\n",
        "\n",
        "\n",
        "1.   Automatically create a matrix at size of 7-by-15\n",
        "2.   Print out the first column of this matrix \n",
        "3.   Print out the third row of this matrix\n",
        "4.   Print out the element at the second column and fourth row\n",
        "\n"
      ]
    },
    {
      "cell_type": "code",
      "metadata": {
        "id": "bUfAGb8Zxijx",
        "colab_type": "code",
        "outputId": "6e277577-82e6-41fc-b5a6-265ff23c95c5",
        "colab": {
          "base_uri": "https://localhost:8080/",
          "height": 134
        }
      },
      "source": [
        "import numpy as np \n",
        "e = np.random.randint(0,30,size=(7, 15))\n",
        "e\n"
      ],
      "execution_count": 0,
      "outputs": [
        {
          "output_type": "execute_result",
          "data": {
            "text/plain": [
              "array([[ 0,  3,  8,  7, 11,  1,  8, 27, 19,  4, 17, 28, 11, 16, 29],\n",
              "       [16, 24, 19, 26, 16, 23, 10, 24,  3, 12,  7,  4, 28, 11,  4],\n",
              "       [24,  3, 10, 16, 19,  4, 11, 23, 19, 10, 12,  5, 18,  2, 25],\n",
              "       [ 2, 19, 13, 25,  7, 16, 20, 22, 27,  6, 20, 22,  7, 25, 28],\n",
              "       [18, 28,  8, 20,  3,  2, 27,  0,  8, 11, 21,  4,  2, 10, 15],\n",
              "       [ 9, 28, 19, 11, 20,  6, 14, 12, 19, 15,  8, 20, 16,  0, 13],\n",
              "       [ 4,  3, 28, 25,  5, 10,  2, 22, 13, 21, 12,  1, 14,  7, 24]])"
            ]
          },
          "metadata": {
            "tags": []
          },
          "execution_count": 1
        }
      ]
    },
    {
      "cell_type": "code",
      "metadata": {
        "id": "kYUS1tpTTFR9",
        "colab_type": "code",
        "outputId": "789e4443-9957-4289-f0ad-7f20e6181a5d",
        "colab": {
          "base_uri": "https://localhost:8080/",
          "height": 134
        }
      },
      "source": [
        "e[:,[0]]\n",
        "\n"
      ],
      "execution_count": 0,
      "outputs": [
        {
          "output_type": "execute_result",
          "data": {
            "text/plain": [
              "array([[ 0],\n",
              "       [16],\n",
              "       [24],\n",
              "       [ 2],\n",
              "       [18],\n",
              "       [ 9],\n",
              "       [ 4]])"
            ]
          },
          "metadata": {
            "tags": []
          },
          "execution_count": 2
        }
      ]
    },
    {
      "cell_type": "code",
      "metadata": {
        "id": "cHo-VGEHTHfZ",
        "colab_type": "code",
        "outputId": "833db503-17dd-43dc-bfbd-65e5436d87a6",
        "colab": {
          "base_uri": "https://localhost:8080/",
          "height": 34
        }
      },
      "source": [
        "e[2:3]\n"
      ],
      "execution_count": 0,
      "outputs": [
        {
          "output_type": "execute_result",
          "data": {
            "text/plain": [
              "array([[24,  3, 10, 16, 19,  4, 11, 23, 19, 10, 12,  5, 18,  2, 25]])"
            ]
          },
          "metadata": {
            "tags": []
          },
          "execution_count": 3
        }
      ]
    },
    {
      "cell_type": "code",
      "metadata": {
        "id": "ayebCkhuTJIb",
        "colab_type": "code",
        "outputId": "8cc36323-3a8c-4c8b-daed-b9b7950b930a",
        "colab": {
          "base_uri": "https://localhost:8080/",
          "height": 34
        }
      },
      "source": [
        "e[1][3]"
      ],
      "execution_count": 0,
      "outputs": [
        {
          "output_type": "execute_result",
          "data": {
            "text/plain": [
              "26"
            ]
          },
          "metadata": {
            "tags": []
          },
          "execution_count": 4
        }
      ]
    },
    {
      "cell_type": "code",
      "metadata": {
        "id": "RG_gl1HVVTMU",
        "colab_type": "code",
        "colab": {}
      },
      "source": [
        ""
      ],
      "execution_count": 0,
      "outputs": []
    },
    {
      "cell_type": "markdown",
      "metadata": {
        "id": "lPTe2UOsyO1x",
        "colab_type": "text"
      },
      "source": [
        "**8. Matrix transposition**\n",
        "\n",
        "Perform the matrix transposition of the matrix in question 7 and print out to the screen."
      ]
    },
    {
      "cell_type": "code",
      "metadata": {
        "id": "4vz_r5ebyLAR",
        "colab_type": "code",
        "outputId": "4427a854-3720-488a-c3d6-05b206323371",
        "colab": {
          "base_uri": "https://localhost:8080/",
          "height": 269
        }
      },
      "source": [
        "e = np.random.randint(0,30,size=(7, 15))\n",
        "e.transpose()"
      ],
      "execution_count": 0,
      "outputs": [
        {
          "output_type": "execute_result",
          "data": {
            "text/plain": [
              "array([[12, 28, 24, 14, 17, 24, 26],\n",
              "       [21,  1, 22,  7, 13,  3, 25],\n",
              "       [ 0, 24, 16,  5, 24, 11, 21],\n",
              "       [ 4, 26, 11, 19,  5,  6, 23],\n",
              "       [ 3, 24, 11, 14, 17, 29, 23],\n",
              "       [20, 18, 26, 10,  3, 18, 13],\n",
              "       [19, 21, 28, 26,  7,  9, 23],\n",
              "       [ 9, 29, 27,  7, 21, 20, 28],\n",
              "       [25,  1, 28, 18,  6, 13, 28],\n",
              "       [11, 15, 11, 20, 25,  3,  6],\n",
              "       [20, 25, 15,  9, 12,  3, 15],\n",
              "       [16, 25, 24, 28, 24,  7, 22],\n",
              "       [ 5,  9,  1, 13,  9,  2, 11],\n",
              "       [18, 22,  6, 23,  0, 12, 24],\n",
              "       [ 0,  8,  1, 27, 19, 21, 19]])"
            ]
          },
          "metadata": {
            "tags": []
          },
          "execution_count": 5
        }
      ]
    },
    {
      "cell_type": "markdown",
      "metadata": {
        "id": "wrmGswxeypvy",
        "colab_type": "text"
      },
      "source": [
        "**9. Matrix addition**\n",
        "\n",
        "\n",
        "\n",
        "1.   Automatically create 2 integer matrices whicch have values in the range of [-10, 30]\n",
        "2.   Print them to the screen\n",
        "3.   Perform matrix addition of the above 2 matrices and print the result to the screen. \n",
        "\n"
      ]
    },
    {
      "cell_type": "code",
      "metadata": {
        "id": "v5VflDc0yhn4",
        "colab_type": "code",
        "outputId": "dc6ce8fa-d20f-416e-dfcd-190f692d45ba",
        "colab": {
          "base_uri": "https://localhost:8080/",
          "height": 118
        }
      },
      "source": [
        "f = np.random.randint(-10,30,size=(3, 5))\n",
        "g = np.random.randint(-10,30,size=(3, 5))\n",
        "print(f)\n",
        "print(g)"
      ],
      "execution_count": 0,
      "outputs": [
        {
          "output_type": "stream",
          "text": [
            "[[-1  0 10 28 10]\n",
            " [ 7 -2 22 27 10]\n",
            " [22  6 28 15 25]]\n",
            "[[-1 -2 14 -9 -2]\n",
            " [-9 27 17 11  4]\n",
            " [ 7 27 13 -6 24]]\n"
          ],
          "name": "stdout"
        }
      ]
    },
    {
      "cell_type": "code",
      "metadata": {
        "id": "FsMpGeq-zhfo",
        "colab_type": "code",
        "outputId": "e937ad5b-a45f-4cb7-d3e6-50d3e4fb7537",
        "colab": {
          "base_uri": "https://localhost:8080/",
          "height": 67
        }
      },
      "source": [
        "np.add(f,g)"
      ],
      "execution_count": 0,
      "outputs": [
        {
          "output_type": "execute_result",
          "data": {
            "text/plain": [
              "array([[-2, -2, 24, 19,  8],\n",
              "       [-2, 25, 39, 38, 14],\n",
              "       [29, 33, 41,  9, 49]])"
            ]
          },
          "metadata": {
            "tags": []
          },
          "execution_count": 7
        }
      ]
    }
  ]
}