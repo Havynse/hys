{
  "nbformat": 4,
  "nbformat_minor": 0,
  "metadata": {
    "kernelspec": {
      "display_name": "Python 3",
      "language": "python",
      "name": "python3"
    },
    "language_info": {
      "codemirror_mode": {
        "name": "ipython",
        "version": 3
      },
      "file_extension": ".py",
      "mimetype": "text/x-python",
      "name": "python",
      "nbconvert_exporter": "python",
      "pygments_lexer": "ipython3",
      "version": "3.7.4"
    },
    "colab": {
      "name": "pandas homework (1).ipynb",
      "provenance": [],
      "include_colab_link": true
    }
  },
  "cells": [
    {
      "cell_type": "markdown",
      "metadata": {
        "id": "view-in-github",
        "colab_type": "text"
      },
      "source": [
        "<a href=\"https://colab.research.google.com/github/Havynse/hys/blob/master/pandas_homework_(1).ipynb\" target=\"_parent\"><img src=\"https://colab.research.google.com/assets/colab-badge.svg\" alt=\"Open In Colab\"/></a>"
      ]
    },
    {
      "cell_type": "code",
      "metadata": {
        "id": "BO_H3M9R8bKk",
        "colab_type": "code",
        "colab": {}
      },
      "source": [
        "import pandas as pd"
      ],
      "execution_count": 0,
      "outputs": []
    },
    {
      "cell_type": "code",
      "metadata": {
        "scrolled": false,
        "id": "ffhCp2bj8bKp",
        "colab_type": "code",
        "colab": {},
        "outputId": "9f7d9ecd-8b77-4e81-be70-049df869441a"
      },
      "source": [
        "df = pd.read_csv('TechCrunchcontinentalUSA.csv')\n",
        "df"
      ],
      "execution_count": 0,
      "outputs": [
        {
          "output_type": "execute_result",
          "data": {
            "text/html": [
              "<div>\n",
              "<style scoped>\n",
              "    .dataframe tbody tr th:only-of-type {\n",
              "        vertical-align: middle;\n",
              "    }\n",
              "\n",
              "    .dataframe tbody tr th {\n",
              "        vertical-align: top;\n",
              "    }\n",
              "\n",
              "    .dataframe thead th {\n",
              "        text-align: right;\n",
              "    }\n",
              "</style>\n",
              "<table border=\"1\" class=\"dataframe\">\n",
              "  <thead>\n",
              "    <tr style=\"text-align: right;\">\n",
              "      <th></th>\n",
              "      <th>permalink</th>\n",
              "      <th>company</th>\n",
              "      <th>numEmps</th>\n",
              "      <th>category</th>\n",
              "      <th>city</th>\n",
              "      <th>state</th>\n",
              "      <th>fundedDate</th>\n",
              "      <th>raisedAmt</th>\n",
              "      <th>raisedCurrency</th>\n",
              "      <th>round</th>\n",
              "    </tr>\n",
              "  </thead>\n",
              "  <tbody>\n",
              "    <tr>\n",
              "      <td>0</td>\n",
              "      <td>lifelock</td>\n",
              "      <td>LifeLock</td>\n",
              "      <td>NaN</td>\n",
              "      <td>web</td>\n",
              "      <td>Tempe</td>\n",
              "      <td>AZ</td>\n",
              "      <td>1-May-07</td>\n",
              "      <td>6850000</td>\n",
              "      <td>USD</td>\n",
              "      <td>b</td>\n",
              "    </tr>\n",
              "    <tr>\n",
              "      <td>1</td>\n",
              "      <td>lifelock</td>\n",
              "      <td>LifeLock</td>\n",
              "      <td>NaN</td>\n",
              "      <td>web</td>\n",
              "      <td>Tempe</td>\n",
              "      <td>AZ</td>\n",
              "      <td>1-Oct-06</td>\n",
              "      <td>6000000</td>\n",
              "      <td>USD</td>\n",
              "      <td>a</td>\n",
              "    </tr>\n",
              "    <tr>\n",
              "      <td>2</td>\n",
              "      <td>lifelock</td>\n",
              "      <td>LifeLock</td>\n",
              "      <td>NaN</td>\n",
              "      <td>web</td>\n",
              "      <td>Tempe</td>\n",
              "      <td>AZ</td>\n",
              "      <td>1-Jan-08</td>\n",
              "      <td>25000000</td>\n",
              "      <td>USD</td>\n",
              "      <td>c</td>\n",
              "    </tr>\n",
              "    <tr>\n",
              "      <td>3</td>\n",
              "      <td>mycityfaces</td>\n",
              "      <td>MyCityFaces</td>\n",
              "      <td>7.0</td>\n",
              "      <td>web</td>\n",
              "      <td>Scottsdale</td>\n",
              "      <td>AZ</td>\n",
              "      <td>1-Jan-08</td>\n",
              "      <td>50000</td>\n",
              "      <td>USD</td>\n",
              "      <td>seed</td>\n",
              "    </tr>\n",
              "    <tr>\n",
              "      <td>4</td>\n",
              "      <td>flypaper</td>\n",
              "      <td>Flypaper</td>\n",
              "      <td>NaN</td>\n",
              "      <td>web</td>\n",
              "      <td>Phoenix</td>\n",
              "      <td>AZ</td>\n",
              "      <td>1-Feb-08</td>\n",
              "      <td>3000000</td>\n",
              "      <td>USD</td>\n",
              "      <td>a</td>\n",
              "    </tr>\n",
              "    <tr>\n",
              "      <td>...</td>\n",
              "      <td>...</td>\n",
              "      <td>...</td>\n",
              "      <td>...</td>\n",
              "      <td>...</td>\n",
              "      <td>...</td>\n",
              "      <td>...</td>\n",
              "      <td>...</td>\n",
              "      <td>...</td>\n",
              "      <td>...</td>\n",
              "      <td>...</td>\n",
              "    </tr>\n",
              "    <tr>\n",
              "      <td>1455</td>\n",
              "      <td>trusera</td>\n",
              "      <td>Trusera</td>\n",
              "      <td>15.0</td>\n",
              "      <td>web</td>\n",
              "      <td>Seattle</td>\n",
              "      <td>WA</td>\n",
              "      <td>1-Jun-07</td>\n",
              "      <td>2000000</td>\n",
              "      <td>USD</td>\n",
              "      <td>angel</td>\n",
              "    </tr>\n",
              "    <tr>\n",
              "      <td>1456</td>\n",
              "      <td>alerts-com</td>\n",
              "      <td>Alerts.com</td>\n",
              "      <td>NaN</td>\n",
              "      <td>web</td>\n",
              "      <td>Bellevue</td>\n",
              "      <td>WA</td>\n",
              "      <td>8-Jul-08</td>\n",
              "      <td>1200000</td>\n",
              "      <td>USD</td>\n",
              "      <td>a</td>\n",
              "    </tr>\n",
              "    <tr>\n",
              "      <td>1457</td>\n",
              "      <td>myrio</td>\n",
              "      <td>Myrio</td>\n",
              "      <td>75.0</td>\n",
              "      <td>software</td>\n",
              "      <td>Bothell</td>\n",
              "      <td>WA</td>\n",
              "      <td>1-Jan-01</td>\n",
              "      <td>20500000</td>\n",
              "      <td>USD</td>\n",
              "      <td>unattributed</td>\n",
              "    </tr>\n",
              "    <tr>\n",
              "      <td>1458</td>\n",
              "      <td>grid-networks</td>\n",
              "      <td>Grid Networks</td>\n",
              "      <td>NaN</td>\n",
              "      <td>web</td>\n",
              "      <td>Seattle</td>\n",
              "      <td>WA</td>\n",
              "      <td>30-Oct-07</td>\n",
              "      <td>9500000</td>\n",
              "      <td>USD</td>\n",
              "      <td>a</td>\n",
              "    </tr>\n",
              "    <tr>\n",
              "      <td>1459</td>\n",
              "      <td>grid-networks</td>\n",
              "      <td>Grid Networks</td>\n",
              "      <td>NaN</td>\n",
              "      <td>web</td>\n",
              "      <td>Seattle</td>\n",
              "      <td>WA</td>\n",
              "      <td>20-May-08</td>\n",
              "      <td>10500000</td>\n",
              "      <td>USD</td>\n",
              "      <td>b</td>\n",
              "    </tr>\n",
              "  </tbody>\n",
              "</table>\n",
              "<p>1460 rows × 10 columns</p>\n",
              "</div>"
            ],
            "text/plain": [
              "          permalink        company  numEmps  category        city state  \\\n",
              "0          lifelock       LifeLock      NaN       web       Tempe    AZ   \n",
              "1          lifelock       LifeLock      NaN       web       Tempe    AZ   \n",
              "2          lifelock       LifeLock      NaN       web       Tempe    AZ   \n",
              "3       mycityfaces    MyCityFaces      7.0       web  Scottsdale    AZ   \n",
              "4          flypaper       Flypaper      NaN       web     Phoenix    AZ   \n",
              "...             ...            ...      ...       ...         ...   ...   \n",
              "1455        trusera        Trusera     15.0       web     Seattle    WA   \n",
              "1456     alerts-com     Alerts.com      NaN       web    Bellevue    WA   \n",
              "1457          myrio          Myrio     75.0  software     Bothell    WA   \n",
              "1458  grid-networks  Grid Networks      NaN       web     Seattle    WA   \n",
              "1459  grid-networks  Grid Networks      NaN       web     Seattle    WA   \n",
              "\n",
              "     fundedDate  raisedAmt raisedCurrency         round  \n",
              "0      1-May-07    6850000            USD             b  \n",
              "1      1-Oct-06    6000000            USD             a  \n",
              "2      1-Jan-08   25000000            USD             c  \n",
              "3      1-Jan-08      50000            USD          seed  \n",
              "4      1-Feb-08    3000000            USD             a  \n",
              "...         ...        ...            ...           ...  \n",
              "1455   1-Jun-07    2000000            USD         angel  \n",
              "1456   8-Jul-08    1200000            USD             a  \n",
              "1457   1-Jan-01   20500000            USD  unattributed  \n",
              "1458  30-Oct-07    9500000            USD             a  \n",
              "1459  20-May-08   10500000            USD             b  \n",
              "\n",
              "[1460 rows x 10 columns]"
            ]
          },
          "metadata": {
            "tags": []
          },
          "execution_count": 45
        }
      ]
    },
    {
      "cell_type": "code",
      "metadata": {
        "id": "9dNQJsH78bKt",
        "colab_type": "code",
        "colab": {}
      },
      "source": [
        ""
      ],
      "execution_count": 0,
      "outputs": []
    },
    {
      "cell_type": "code",
      "metadata": {
        "id": "TEOE5pSF8bKv",
        "colab_type": "code",
        "colab": {},
        "outputId": "105ee2f3-4b58-47ab-ebfc-5a3e706e988b"
      },
      "source": [
        "df.iloc[0]"
      ],
      "execution_count": 0,
      "outputs": [
        {
          "output_type": "execute_result",
          "data": {
            "text/plain": [
              "permalink         lifelock\n",
              "company           LifeLock\n",
              "numEmps                NaN\n",
              "category               web\n",
              "city                 Tempe\n",
              "state                   AZ\n",
              "fundedDate        1-May-07\n",
              "raisedAmt          6850000\n",
              "raisedCurrency         USD\n",
              "round                    b\n",
              "Name: 0, dtype: object"
            ]
          },
          "metadata": {
            "tags": []
          },
          "execution_count": 3
        }
      ]
    },
    {
      "cell_type": "code",
      "metadata": {
        "id": "smJbXpij8bKy",
        "colab_type": "code",
        "colab": {},
        "outputId": "0e4a11be-1854-43bb-cb1b-00cee12c82d2"
      },
      "source": [
        "df['raisedAmt'].idxmin()"
      ],
      "execution_count": 0,
      "outputs": [
        {
          "output_type": "execute_result",
          "data": {
            "text/plain": [
              "473"
            ]
          },
          "metadata": {
            "tags": []
          },
          "execution_count": 4
        }
      ]
    },
    {
      "cell_type": "code",
      "metadata": {
        "id": "4yeK2srr8bK1",
        "colab_type": "code",
        "colab": {},
        "outputId": "54b578cc-5808-4ff4-f863-a65923d7871f"
      },
      "source": [
        "df['raisedAmt'].idxmax()"
      ],
      "execution_count": 0,
      "outputs": [
        {
          "output_type": "execute_result",
          "data": {
            "text/plain": [
              "14"
            ]
          },
          "metadata": {
            "tags": []
          },
          "execution_count": 5
        }
      ]
    },
    {
      "cell_type": "code",
      "metadata": {
        "id": "CSnTFuKu8bK4",
        "colab_type": "code",
        "colab": {},
        "outputId": "3cf02d67-e593-4500-80de-6653ad89b5a8"
      },
      "source": [
        "df['raisedAmt'].idxavg()"
      ],
      "execution_count": 0,
      "outputs": [
        {
          "output_type": "error",
          "ename": "AttributeError",
          "evalue": "'Series' object has no attribute 'idxavg'",
          "traceback": [
            "\u001b[1;31m---------------------------------------------------------------------------\u001b[0m",
            "\u001b[1;31mAttributeError\u001b[0m                            Traceback (most recent call last)",
            "\u001b[1;32m<ipython-input-48-f96d1d5cbcfb>\u001b[0m in \u001b[0;36m<module>\u001b[1;34m\u001b[0m\n\u001b[1;32m----> 1\u001b[1;33m \u001b[0mdf\u001b[0m\u001b[1;33m[\u001b[0m\u001b[1;34m'raisedAmt'\u001b[0m\u001b[1;33m]\u001b[0m\u001b[1;33m.\u001b[0m\u001b[0midxavg\u001b[0m\u001b[1;33m(\u001b[0m\u001b[1;33m)\u001b[0m\u001b[1;33m\u001b[0m\u001b[1;33m\u001b[0m\u001b[0m\n\u001b[0m",
            "\u001b[1;32mD:\\Anaconda\\lib\\site-packages\\pandas\\core\\generic.py\u001b[0m in \u001b[0;36m__getattr__\u001b[1;34m(self, name)\u001b[0m\n\u001b[0;32m   5177\u001b[0m             \u001b[1;32mif\u001b[0m \u001b[0mself\u001b[0m\u001b[1;33m.\u001b[0m\u001b[0m_info_axis\u001b[0m\u001b[1;33m.\u001b[0m\u001b[0m_can_hold_identifiers_and_holds_name\u001b[0m\u001b[1;33m(\u001b[0m\u001b[0mname\u001b[0m\u001b[1;33m)\u001b[0m\u001b[1;33m:\u001b[0m\u001b[1;33m\u001b[0m\u001b[1;33m\u001b[0m\u001b[0m\n\u001b[0;32m   5178\u001b[0m                 \u001b[1;32mreturn\u001b[0m \u001b[0mself\u001b[0m\u001b[1;33m[\u001b[0m\u001b[0mname\u001b[0m\u001b[1;33m]\u001b[0m\u001b[1;33m\u001b[0m\u001b[1;33m\u001b[0m\u001b[0m\n\u001b[1;32m-> 5179\u001b[1;33m             \u001b[1;32mreturn\u001b[0m \u001b[0mobject\u001b[0m\u001b[1;33m.\u001b[0m\u001b[0m__getattribute__\u001b[0m\u001b[1;33m(\u001b[0m\u001b[0mself\u001b[0m\u001b[1;33m,\u001b[0m \u001b[0mname\u001b[0m\u001b[1;33m)\u001b[0m\u001b[1;33m\u001b[0m\u001b[1;33m\u001b[0m\u001b[0m\n\u001b[0m\u001b[0;32m   5180\u001b[0m \u001b[1;33m\u001b[0m\u001b[0m\n\u001b[0;32m   5181\u001b[0m     \u001b[1;32mdef\u001b[0m \u001b[0m__setattr__\u001b[0m\u001b[1;33m(\u001b[0m\u001b[0mself\u001b[0m\u001b[1;33m,\u001b[0m \u001b[0mname\u001b[0m\u001b[1;33m,\u001b[0m \u001b[0mvalue\u001b[0m\u001b[1;33m)\u001b[0m\u001b[1;33m:\u001b[0m\u001b[1;33m\u001b[0m\u001b[1;33m\u001b[0m\u001b[0m\n",
            "\u001b[1;31mAttributeError\u001b[0m: 'Series' object has no attribute 'idxavg'"
          ]
        }
      ]
    },
    {
      "cell_type": "code",
      "metadata": {
        "id": "VSa_B8yE8bK7",
        "colab_type": "code",
        "colab": {},
        "outputId": "7c8c9968-dbbc-4d0d-dd9c-846959851ff3"
      },
      "source": [
        "df['raisedAmt'].sort_values()\n"
      ],
      "execution_count": 0,
      "outputs": [
        {
          "output_type": "execute_result",
          "data": {
            "text/plain": [
              "473          6000\n",
              "967         10000\n",
              "847         10000\n",
              "28          12000\n",
              "401         12000\n",
              "          ...    \n",
              "804     150000000\n",
              "579     150000000\n",
              "923     196000000\n",
              "14      300000000\n",
              "1104    300000000\n",
              "Name: raisedAmt, Length: 1460, dtype: int64"
            ]
          },
          "metadata": {
            "tags": []
          },
          "execution_count": 17
        }
      ]
    },
    {
      "cell_type": "code",
      "metadata": {
        "id": "F6D4ib4i8bK9",
        "colab_type": "code",
        "colab": {},
        "outputId": "932b2ea3-a3e2-4b64-c3d6-595926b2a485"
      },
      "source": [
        "df['raisedAmt'].sort_values(ascending=False)"
      ],
      "execution_count": 0,
      "outputs": [
        {
          "output_type": "execute_result",
          "data": {
            "text/plain": [
              "1104    300000000\n",
              "14      300000000\n",
              "923     196000000\n",
              "579     150000000\n",
              "804     150000000\n",
              "          ...    \n",
              "401         12000\n",
              "28          12000\n",
              "847         10000\n",
              "967         10000\n",
              "473          6000\n",
              "Name: raisedAmt, Length: 1460, dtype: int64"
            ]
          },
          "metadata": {
            "tags": []
          },
          "execution_count": 19
        }
      ]
    },
    {
      "cell_type": "code",
      "metadata": {
        "id": "3vo58RL48bLA",
        "colab_type": "code",
        "colab": {},
        "outputId": "fa475b2d-b782-4f74-d317-714134a8f6c9"
      },
      "source": [
        "df = df.groupby('state')\n",
        "df"
      ],
      "execution_count": 0,
      "outputs": [
        {
          "output_type": "execute_result",
          "data": {
            "text/plain": [
              "<pandas.core.groupby.generic.DataFrameGroupBy object at 0x00000234932FB9C8>"
            ]
          },
          "metadata": {
            "tags": []
          },
          "execution_count": 27
        }
      ]
    },
    {
      "cell_type": "code",
      "metadata": {
        "id": "TeIe7QAt8bLD",
        "colab_type": "code",
        "colab": {},
        "outputId": "7ce57607-1840-4dfd-f6cc-f434f4d89d33"
      },
      "source": [
        "df.count()"
      ],
      "execution_count": 0,
      "outputs": [
        {
          "output_type": "execute_result",
          "data": {
            "text/html": [
              "<div>\n",
              "<style scoped>\n",
              "    .dataframe tbody tr th:only-of-type {\n",
              "        vertical-align: middle;\n",
              "    }\n",
              "\n",
              "    .dataframe tbody tr th {\n",
              "        vertical-align: top;\n",
              "    }\n",
              "\n",
              "    .dataframe thead th {\n",
              "        text-align: right;\n",
              "    }\n",
              "</style>\n",
              "<table border=\"1\" class=\"dataframe\">\n",
              "  <thead>\n",
              "    <tr style=\"text-align: right;\">\n",
              "      <th></th>\n",
              "      <th>permalink</th>\n",
              "      <th>company</th>\n",
              "      <th>numEmps</th>\n",
              "      <th>category</th>\n",
              "      <th>city</th>\n",
              "      <th>fundedDate</th>\n",
              "      <th>raisedAmt</th>\n",
              "      <th>raisedCurrency</th>\n",
              "      <th>round</th>\n",
              "    </tr>\n",
              "    <tr>\n",
              "      <th>state</th>\n",
              "      <th></th>\n",
              "      <th></th>\n",
              "      <th></th>\n",
              "      <th></th>\n",
              "      <th></th>\n",
              "      <th></th>\n",
              "      <th></th>\n",
              "      <th></th>\n",
              "      <th></th>\n",
              "    </tr>\n",
              "  </thead>\n",
              "  <tbody>\n",
              "    <tr>\n",
              "      <td>AZ</td>\n",
              "      <td>9</td>\n",
              "      <td>9</td>\n",
              "      <td>5</td>\n",
              "      <td>9</td>\n",
              "      <td>9</td>\n",
              "      <td>9</td>\n",
              "      <td>9</td>\n",
              "      <td>9</td>\n",
              "      <td>9</td>\n",
              "    </tr>\n",
              "    <tr>\n",
              "      <td>CA</td>\n",
              "      <td>873</td>\n",
              "      <td>873</td>\n",
              "      <td>322</td>\n",
              "      <td>855</td>\n",
              "      <td>860</td>\n",
              "      <td>873</td>\n",
              "      <td>873</td>\n",
              "      <td>873</td>\n",
              "      <td>873</td>\n",
              "    </tr>\n",
              "    <tr>\n",
              "      <td>CO</td>\n",
              "      <td>33</td>\n",
              "      <td>33</td>\n",
              "      <td>5</td>\n",
              "      <td>31</td>\n",
              "      <td>33</td>\n",
              "      <td>33</td>\n",
              "      <td>33</td>\n",
              "      <td>33</td>\n",
              "      <td>33</td>\n",
              "    </tr>\n",
              "    <tr>\n",
              "      <td>CT</td>\n",
              "      <td>13</td>\n",
              "      <td>13</td>\n",
              "      <td>10</td>\n",
              "      <td>13</td>\n",
              "      <td>13</td>\n",
              "      <td>13</td>\n",
              "      <td>13</td>\n",
              "      <td>13</td>\n",
              "      <td>13</td>\n",
              "    </tr>\n",
              "    <tr>\n",
              "      <td>DC</td>\n",
              "      <td>10</td>\n",
              "      <td>10</td>\n",
              "      <td>1</td>\n",
              "      <td>10</td>\n",
              "      <td>10</td>\n",
              "      <td>10</td>\n",
              "      <td>10</td>\n",
              "      <td>10</td>\n",
              "      <td>10</td>\n",
              "    </tr>\n",
              "    <tr>\n",
              "      <td>FL</td>\n",
              "      <td>22</td>\n",
              "      <td>22</td>\n",
              "      <td>9</td>\n",
              "      <td>22</td>\n",
              "      <td>22</td>\n",
              "      <td>22</td>\n",
              "      <td>22</td>\n",
              "      <td>22</td>\n",
              "      <td>22</td>\n",
              "    </tr>\n",
              "    <tr>\n",
              "      <td>GA</td>\n",
              "      <td>8</td>\n",
              "      <td>8</td>\n",
              "      <td>1</td>\n",
              "      <td>8</td>\n",
              "      <td>8</td>\n",
              "      <td>8</td>\n",
              "      <td>8</td>\n",
              "      <td>8</td>\n",
              "      <td>8</td>\n",
              "    </tr>\n",
              "    <tr>\n",
              "      <td>IA</td>\n",
              "      <td>1</td>\n",
              "      <td>1</td>\n",
              "      <td>1</td>\n",
              "      <td>1</td>\n",
              "      <td>1</td>\n",
              "      <td>1</td>\n",
              "      <td>1</td>\n",
              "      <td>1</td>\n",
              "      <td>1</td>\n",
              "    </tr>\n",
              "    <tr>\n",
              "      <td>ID</td>\n",
              "      <td>2</td>\n",
              "      <td>2</td>\n",
              "      <td>0</td>\n",
              "      <td>2</td>\n",
              "      <td>2</td>\n",
              "      <td>2</td>\n",
              "      <td>2</td>\n",
              "      <td>2</td>\n",
              "      <td>2</td>\n",
              "    </tr>\n",
              "    <tr>\n",
              "      <td>IL</td>\n",
              "      <td>17</td>\n",
              "      <td>17</td>\n",
              "      <td>5</td>\n",
              "      <td>17</td>\n",
              "      <td>17</td>\n",
              "      <td>17</td>\n",
              "      <td>17</td>\n",
              "      <td>17</td>\n",
              "      <td>17</td>\n",
              "    </tr>\n",
              "    <tr>\n",
              "      <td>IN</td>\n",
              "      <td>5</td>\n",
              "      <td>5</td>\n",
              "      <td>4</td>\n",
              "      <td>5</td>\n",
              "      <td>5</td>\n",
              "      <td>5</td>\n",
              "      <td>5</td>\n",
              "      <td>5</td>\n",
              "      <td>5</td>\n",
              "    </tr>\n",
              "    <tr>\n",
              "      <td>LA</td>\n",
              "      <td>1</td>\n",
              "      <td>1</td>\n",
              "      <td>1</td>\n",
              "      <td>1</td>\n",
              "      <td>1</td>\n",
              "      <td>1</td>\n",
              "      <td>1</td>\n",
              "      <td>1</td>\n",
              "      <td>1</td>\n",
              "    </tr>\n",
              "    <tr>\n",
              "      <td>MA</td>\n",
              "      <td>107</td>\n",
              "      <td>107</td>\n",
              "      <td>46</td>\n",
              "      <td>107</td>\n",
              "      <td>107</td>\n",
              "      <td>107</td>\n",
              "      <td>107</td>\n",
              "      <td>107</td>\n",
              "      <td>107</td>\n",
              "    </tr>\n",
              "    <tr>\n",
              "      <td>MD</td>\n",
              "      <td>8</td>\n",
              "      <td>8</td>\n",
              "      <td>6</td>\n",
              "      <td>8</td>\n",
              "      <td>8</td>\n",
              "      <td>8</td>\n",
              "      <td>8</td>\n",
              "      <td>8</td>\n",
              "      <td>8</td>\n",
              "    </tr>\n",
              "    <tr>\n",
              "      <td>ME</td>\n",
              "      <td>3</td>\n",
              "      <td>3</td>\n",
              "      <td>3</td>\n",
              "      <td>3</td>\n",
              "      <td>3</td>\n",
              "      <td>3</td>\n",
              "      <td>3</td>\n",
              "      <td>3</td>\n",
              "      <td>3</td>\n",
              "    </tr>\n",
              "    <tr>\n",
              "      <td>MI</td>\n",
              "      <td>1</td>\n",
              "      <td>1</td>\n",
              "      <td>1</td>\n",
              "      <td>1</td>\n",
              "      <td>1</td>\n",
              "      <td>1</td>\n",
              "      <td>1</td>\n",
              "      <td>1</td>\n",
              "      <td>1</td>\n",
              "    </tr>\n",
              "    <tr>\n",
              "      <td>MN</td>\n",
              "      <td>1</td>\n",
              "      <td>1</td>\n",
              "      <td>1</td>\n",
              "      <td>1</td>\n",
              "      <td>1</td>\n",
              "      <td>1</td>\n",
              "      <td>1</td>\n",
              "      <td>1</td>\n",
              "      <td>1</td>\n",
              "    </tr>\n",
              "    <tr>\n",
              "      <td>MO</td>\n",
              "      <td>2</td>\n",
              "      <td>2</td>\n",
              "      <td>1</td>\n",
              "      <td>2</td>\n",
              "      <td>2</td>\n",
              "      <td>2</td>\n",
              "      <td>2</td>\n",
              "      <td>2</td>\n",
              "      <td>2</td>\n",
              "    </tr>\n",
              "    <tr>\n",
              "      <td>NC</td>\n",
              "      <td>13</td>\n",
              "      <td>13</td>\n",
              "      <td>9</td>\n",
              "      <td>11</td>\n",
              "      <td>13</td>\n",
              "      <td>13</td>\n",
              "      <td>13</td>\n",
              "      <td>13</td>\n",
              "      <td>13</td>\n",
              "    </tr>\n",
              "    <tr>\n",
              "      <td>ND</td>\n",
              "      <td>1</td>\n",
              "      <td>1</td>\n",
              "      <td>1</td>\n",
              "      <td>1</td>\n",
              "      <td>1</td>\n",
              "      <td>1</td>\n",
              "      <td>1</td>\n",
              "      <td>1</td>\n",
              "      <td>1</td>\n",
              "    </tr>\n",
              "    <tr>\n",
              "      <td>NE</td>\n",
              "      <td>1</td>\n",
              "      <td>1</td>\n",
              "      <td>0</td>\n",
              "      <td>1</td>\n",
              "      <td>1</td>\n",
              "      <td>1</td>\n",
              "      <td>1</td>\n",
              "      <td>1</td>\n",
              "      <td>1</td>\n",
              "    </tr>\n",
              "    <tr>\n",
              "      <td>NJ</td>\n",
              "      <td>10</td>\n",
              "      <td>10</td>\n",
              "      <td>1</td>\n",
              "      <td>10</td>\n",
              "      <td>10</td>\n",
              "      <td>10</td>\n",
              "      <td>10</td>\n",
              "      <td>10</td>\n",
              "      <td>10</td>\n",
              "    </tr>\n",
              "    <tr>\n",
              "      <td>NM</td>\n",
              "      <td>3</td>\n",
              "      <td>3</td>\n",
              "      <td>2</td>\n",
              "      <td>3</td>\n",
              "      <td>3</td>\n",
              "      <td>3</td>\n",
              "      <td>3</td>\n",
              "      <td>3</td>\n",
              "      <td>3</td>\n",
              "    </tr>\n",
              "    <tr>\n",
              "      <td>NY</td>\n",
              "      <td>125</td>\n",
              "      <td>125</td>\n",
              "      <td>57</td>\n",
              "      <td>124</td>\n",
              "      <td>124</td>\n",
              "      <td>125</td>\n",
              "      <td>125</td>\n",
              "      <td>125</td>\n",
              "      <td>125</td>\n",
              "    </tr>\n",
              "    <tr>\n",
              "      <td>OH</td>\n",
              "      <td>1</td>\n",
              "      <td>1</td>\n",
              "      <td>0</td>\n",
              "      <td>1</td>\n",
              "      <td>1</td>\n",
              "      <td>1</td>\n",
              "      <td>1</td>\n",
              "      <td>1</td>\n",
              "      <td>1</td>\n",
              "    </tr>\n",
              "    <tr>\n",
              "      <td>OR</td>\n",
              "      <td>8</td>\n",
              "      <td>8</td>\n",
              "      <td>4</td>\n",
              "      <td>8</td>\n",
              "      <td>8</td>\n",
              "      <td>8</td>\n",
              "      <td>8</td>\n",
              "      <td>8</td>\n",
              "      <td>8</td>\n",
              "    </tr>\n",
              "    <tr>\n",
              "      <td>PA</td>\n",
              "      <td>21</td>\n",
              "      <td>21</td>\n",
              "      <td>8</td>\n",
              "      <td>21</td>\n",
              "      <td>21</td>\n",
              "      <td>21</td>\n",
              "      <td>21</td>\n",
              "      <td>21</td>\n",
              "      <td>21</td>\n",
              "    </tr>\n",
              "    <tr>\n",
              "      <td>RI</td>\n",
              "      <td>1</td>\n",
              "      <td>1</td>\n",
              "      <td>0</td>\n",
              "      <td>1</td>\n",
              "      <td>1</td>\n",
              "      <td>1</td>\n",
              "      <td>1</td>\n",
              "      <td>1</td>\n",
              "      <td>1</td>\n",
              "    </tr>\n",
              "    <tr>\n",
              "      <td>TN</td>\n",
              "      <td>3</td>\n",
              "      <td>3</td>\n",
              "      <td>0</td>\n",
              "      <td>3</td>\n",
              "      <td>3</td>\n",
              "      <td>3</td>\n",
              "      <td>3</td>\n",
              "      <td>3</td>\n",
              "      <td>3</td>\n",
              "    </tr>\n",
              "    <tr>\n",
              "      <td>TX</td>\n",
              "      <td>25</td>\n",
              "      <td>25</td>\n",
              "      <td>11</td>\n",
              "      <td>25</td>\n",
              "      <td>25</td>\n",
              "      <td>25</td>\n",
              "      <td>25</td>\n",
              "      <td>25</td>\n",
              "      <td>25</td>\n",
              "    </tr>\n",
              "    <tr>\n",
              "      <td>UT</td>\n",
              "      <td>12</td>\n",
              "      <td>12</td>\n",
              "      <td>5</td>\n",
              "      <td>12</td>\n",
              "      <td>12</td>\n",
              "      <td>12</td>\n",
              "      <td>12</td>\n",
              "      <td>12</td>\n",
              "      <td>12</td>\n",
              "    </tr>\n",
              "    <tr>\n",
              "      <td>VA</td>\n",
              "      <td>23</td>\n",
              "      <td>23</td>\n",
              "      <td>7</td>\n",
              "      <td>22</td>\n",
              "      <td>20</td>\n",
              "      <td>23</td>\n",
              "      <td>23</td>\n",
              "      <td>23</td>\n",
              "      <td>23</td>\n",
              "    </tr>\n",
              "    <tr>\n",
              "      <td>WA</td>\n",
              "      <td>97</td>\n",
              "      <td>97</td>\n",
              "      <td>40</td>\n",
              "      <td>97</td>\n",
              "      <td>96</td>\n",
              "      <td>97</td>\n",
              "      <td>97</td>\n",
              "      <td>97</td>\n",
              "      <td>97</td>\n",
              "    </tr>\n",
              "  </tbody>\n",
              "</table>\n",
              "</div>"
            ],
            "text/plain": [
              "       permalink  company  numEmps  category  city  fundedDate  raisedAmt  \\\n",
              "state                                                                       \n",
              "AZ             9        9        5         9     9           9          9   \n",
              "CA           873      873      322       855   860         873        873   \n",
              "CO            33       33        5        31    33          33         33   \n",
              "CT            13       13       10        13    13          13         13   \n",
              "DC            10       10        1        10    10          10         10   \n",
              "FL            22       22        9        22    22          22         22   \n",
              "GA             8        8        1         8     8           8          8   \n",
              "IA             1        1        1         1     1           1          1   \n",
              "ID             2        2        0         2     2           2          2   \n",
              "IL            17       17        5        17    17          17         17   \n",
              "IN             5        5        4         5     5           5          5   \n",
              "LA             1        1        1         1     1           1          1   \n",
              "MA           107      107       46       107   107         107        107   \n",
              "MD             8        8        6         8     8           8          8   \n",
              "ME             3        3        3         3     3           3          3   \n",
              "MI             1        1        1         1     1           1          1   \n",
              "MN             1        1        1         1     1           1          1   \n",
              "MO             2        2        1         2     2           2          2   \n",
              "NC            13       13        9        11    13          13         13   \n",
              "ND             1        1        1         1     1           1          1   \n",
              "NE             1        1        0         1     1           1          1   \n",
              "NJ            10       10        1        10    10          10         10   \n",
              "NM             3        3        2         3     3           3          3   \n",
              "NY           125      125       57       124   124         125        125   \n",
              "OH             1        1        0         1     1           1          1   \n",
              "OR             8        8        4         8     8           8          8   \n",
              "PA            21       21        8        21    21          21         21   \n",
              "RI             1        1        0         1     1           1          1   \n",
              "TN             3        3        0         3     3           3          3   \n",
              "TX            25       25       11        25    25          25         25   \n",
              "UT            12       12        5        12    12          12         12   \n",
              "VA            23       23        7        22    20          23         23   \n",
              "WA            97       97       40        97    96          97         97   \n",
              "\n",
              "       raisedCurrency  round  \n",
              "state                         \n",
              "AZ                  9      9  \n",
              "CA                873    873  \n",
              "CO                 33     33  \n",
              "CT                 13     13  \n",
              "DC                 10     10  \n",
              "FL                 22     22  \n",
              "GA                  8      8  \n",
              "IA                  1      1  \n",
              "ID                  2      2  \n",
              "IL                 17     17  \n",
              "IN                  5      5  \n",
              "LA                  1      1  \n",
              "MA                107    107  \n",
              "MD                  8      8  \n",
              "ME                  3      3  \n",
              "MI                  1      1  \n",
              "MN                  1      1  \n",
              "MO                  2      2  \n",
              "NC                 13     13  \n",
              "ND                  1      1  \n",
              "NE                  1      1  \n",
              "NJ                 10     10  \n",
              "NM                  3      3  \n",
              "NY                125    125  \n",
              "OH                  1      1  \n",
              "OR                  8      8  \n",
              "PA                 21     21  \n",
              "RI                  1      1  \n",
              "TN                  3      3  \n",
              "TX                 25     25  \n",
              "UT                 12     12  \n",
              "VA                 23     23  \n",
              "WA                 97     97  "
            ]
          },
          "metadata": {
            "tags": []
          },
          "execution_count": 32
        }
      ]
    },
    {
      "cell_type": "code",
      "metadata": {
        "id": "jPUsAIR68bLF",
        "colab_type": "code",
        "colab": {}
      },
      "source": [
        "import pandas as pd"
      ],
      "execution_count": 0,
      "outputs": []
    },
    {
      "cell_type": "code",
      "metadata": {
        "id": "Ec5Ipcar8bLH",
        "colab_type": "code",
        "colab": {}
      },
      "source": [
        "names = ['tim','sam','adam','smith','ben']\n",
        "ages = [20,25,30,48,60]"
      ],
      "execution_count": 0,
      "outputs": []
    },
    {
      "cell_type": "code",
      "metadata": {
        "id": "u_rmEp4A8bLK",
        "colab_type": "code",
        "colab": {}
      },
      "source": [
        "data = {'names': pd.Series(names), 'ages': pd.Series(ages)}"
      ],
      "execution_count": 0,
      "outputs": []
    },
    {
      "cell_type": "code",
      "metadata": {
        "id": "Dp_cZIM_8bLM",
        "colab_type": "code",
        "colab": {}
      },
      "source": [
        "dframe = pd.DataFrame(data)"
      ],
      "execution_count": 0,
      "outputs": []
    },
    {
      "cell_type": "code",
      "metadata": {
        "id": "VXWehM2F8bLP",
        "colab_type": "code",
        "colab": {},
        "outputId": "196470c0-4cb7-459f-ff91-2c5555ea4354"
      },
      "source": [
        "dframe"
      ],
      "execution_count": 0,
      "outputs": [
        {
          "output_type": "execute_result",
          "data": {
            "text/html": [
              "<div>\n",
              "<style scoped>\n",
              "    .dataframe tbody tr th:only-of-type {\n",
              "        vertical-align: middle;\n",
              "    }\n",
              "\n",
              "    .dataframe tbody tr th {\n",
              "        vertical-align: top;\n",
              "    }\n",
              "\n",
              "    .dataframe thead th {\n",
              "        text-align: right;\n",
              "    }\n",
              "</style>\n",
              "<table border=\"1\" class=\"dataframe\">\n",
              "  <thead>\n",
              "    <tr style=\"text-align: right;\">\n",
              "      <th></th>\n",
              "      <th>names</th>\n",
              "      <th>ages</th>\n",
              "    </tr>\n",
              "  </thead>\n",
              "  <tbody>\n",
              "    <tr>\n",
              "      <td>0</td>\n",
              "      <td>tim</td>\n",
              "      <td>20</td>\n",
              "    </tr>\n",
              "    <tr>\n",
              "      <td>1</td>\n",
              "      <td>sam</td>\n",
              "      <td>25</td>\n",
              "    </tr>\n",
              "    <tr>\n",
              "      <td>2</td>\n",
              "      <td>adam</td>\n",
              "      <td>30</td>\n",
              "    </tr>\n",
              "    <tr>\n",
              "      <td>3</td>\n",
              "      <td>smith</td>\n",
              "      <td>48</td>\n",
              "    </tr>\n",
              "    <tr>\n",
              "      <td>4</td>\n",
              "      <td>ben</td>\n",
              "      <td>60</td>\n",
              "    </tr>\n",
              "  </tbody>\n",
              "</table>\n",
              "</div>"
            ],
            "text/plain": [
              "   names  ages\n",
              "0    tim    20\n",
              "1    sam    25\n",
              "2   adam    30\n",
              "3  smith    48\n",
              "4    ben    60"
            ]
          },
          "metadata": {
            "tags": []
          },
          "execution_count": 38
        }
      ]
    },
    {
      "cell_type": "code",
      "metadata": {
        "id": "r99SMAVR8bLS",
        "colab_type": "code",
        "colab": {},
        "outputId": "3ec77626-88b6-4831-8eba-cd94764ba0fe"
      },
      "source": [
        "dframe.plot.bar()"
      ],
      "execution_count": 0,
      "outputs": [
        {
          "output_type": "execute_result",
          "data": {
            "text/plain": [
              "<matplotlib.axes._subplots.AxesSubplot at 0x234933d7688>"
            ]
          },
          "metadata": {
            "tags": []
          },
          "execution_count": 39
        }
      ]
    },
    {
      "cell_type": "code",
      "metadata": {
        "id": "fbYKi8Uk8bLU",
        "colab_type": "code",
        "colab": {}
      },
      "source": [
        "%matplotlib inline"
      ],
      "execution_count": 0,
      "outputs": []
    },
    {
      "cell_type": "code",
      "metadata": {
        "id": "YMonZgwa8bLW",
        "colab_type": "code",
        "colab": {},
        "outputId": "2b66a913-cad8-4321-dc6e-f14a39f3b50c"
      },
      "source": [
        "dframe.plot.bar()"
      ],
      "execution_count": 0,
      "outputs": [
        {
          "output_type": "execute_result",
          "data": {
            "text/plain": [
              "<matplotlib.axes._subplots.AxesSubplot at 0x23493c35508>"
            ]
          },
          "metadata": {
            "tags": []
          },
          "execution_count": 41
        },
        {
          "output_type": "display_data",
          "data": {
            "image/png": "[encoded data removed]",
            "text/plain": [
              "<Figure size 432x288 with 1 Axes>"
            ]
          },
          "metadata": {
            "tags": [],
            "needs_background": "light"
          }
        }
      ]
    }
  ]
}