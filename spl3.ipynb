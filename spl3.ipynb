{
  "nbformat": 4,
  "nbformat_minor": 0,
  "metadata": {
    "colab": {
      "name": "Untitled11.ipynb",
      "provenance": [],
      "include_colab_link": true
    },
    "kernelspec": {
      "name": "python3",
      "display_name": "Python 3"
    }
  },
  "cells": [
    {
      "cell_type": "markdown",
      "metadata": {
        "id": "view-in-github",
        "colab_type": "text"
      },
      "source": [
        "<a href=\"https://colab.research.google.com/github/Havynse/hys/blob/master/spl3.ipynb\" target=\"_parent\"><img src=\"https://colab.research.google.com/assets/colab-badge.svg\" alt=\"Open In Colab\"/></a>"
      ]
    },
    {
      "cell_type": "code",
      "metadata": {
        "id": "sayhjaumMz1a",
        "colab_type": "code",
        "colab": {
          "base_uri": "https://localhost:8080/",
          "height": 50
        },
        "outputId": "fd3bc067-2f76-4e45-ef00-b2339d2b41cf"
      },
      "source": [
        "point = float(input(\"your score: \"))\n",
        "if point >= 90: grade = \"A\"\n",
        "if point >= 80: grade = \"B\"\n",
        "if point >= 70: grade = \"C\"\n",
        "if point >= 60: grade = \"D\"\n",
        "else: grade = \"F\"\n",
        "print(\"your grade is:\",grade)"
      ],
      "execution_count": 1,
      "outputs": [
        {
          "output_type": "stream",
          "text": [
            "your score: 51\n",
            "your grade is: F\n"
          ],
          "name": "stdout"
        }
      ]
    }
  ]
}