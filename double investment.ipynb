{
  "nbformat": 4,
  "nbformat_minor": 0,
  "metadata": {
    "colab": {
      "name": "Untitled9.ipynb",
      "provenance": [],
      "include_colab_link": true
    },
    "kernelspec": {
      "name": "python3",
      "display_name": "Python 3"
    }
  },
  "cells": [
    {
      "cell_type": "markdown",
      "metadata": {
        "id": "view-in-github",
        "colab_type": "text"
      },
      "source": [
        "<a href=\"https://colab.research.google.com/github/Havynse/hys/blob/master/double%20investment.ipynb\" target=\"_parent\"><img src=\"https://colab.research.google.com/assets/colab-badge.svg\" alt=\"Open In Colab\"/></a>"
      ]
    },
    {
      "cell_type": "code",
      "metadata": {
        "id": "a5a0ZKP6JrYF",
        "colab_type": "code",
        "colab": {
          "base_uri": "https://localhost:8080/",
          "height": 67
        },
        "outputId": "d04f7785-e478-43d8-cef2-34f2a1ec9a90"
      },
      "source": [
        "print(\"this program calculates the number of years it takes for an investment to double.\")\n",
        "\n",
        "investment = 1\n",
        "value = investment\n",
        "rate = input(\"enter the annual interest rate: \")\n",
        "years = 0\n",
        "\n",
        "while value <= investment * 2:\n",
        "    value = value + value * float(rate)/100\n",
        "    years = years + 1\n",
        "print(\"at\", rate, \"% interest your investment doubles in\", years,\"years\")\n",
        "\n"
      ],
      "execution_count": 14,
      "outputs": [
        {
          "output_type": "stream",
          "text": [
            "this program calculates the number of years it takes for an investment to double.\n",
            "enter the annual interest rate: 50\n",
            "at 50 % interest your investment doubles in 2 years\n"
          ],
          "name": "stdout"
        }
      ]
    },
    {
      "cell_type": "code",
      "metadata": {
        "id": "jh3T3GADItsN",
        "colab_type": "code",
        "colab": {}
      },
      "source": [
        ""
      ],
      "execution_count": 0,
      "outputs": []
    }
  ]
}