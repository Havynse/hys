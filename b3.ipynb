{
  "nbformat": 4,
  "nbformat_minor": 0,
  "metadata": {
    "colab": {
      "name": "Untitled5.ipynb",
      "provenance": [],
      "include_colab_link": true
    },
    "kernelspec": {
      "name": "python3",
      "display_name": "Python 3"
    }
  },
  "cells": [
    {
      "cell_type": "markdown",
      "metadata": {
        "id": "view-in-github",
        "colab_type": "text"
      },
      "source": [
        "<a href=\"https://colab.research.google.com/github/Havynse/hys/blob/master/b3.ipynb\" target=\"_parent\"><img src=\"https://colab.research.google.com/assets/colab-badge.svg\" alt=\"Open In Colab\"/></a>"
      ]
    },
    {
      "cell_type": "code",
      "metadata": {
        "id": "SLzGvysLT7TJ",
        "colab_type": "code",
        "colab": {
          "base_uri": "https://localhost:8080/",
          "height": 67
        },
        "outputId": "f33f1bde-ef4b-4f55-ff3f-dd0a0f695579"
      },
      "source": [
        "def gradeletter(point):\n",
        "    if point >= 90: return \"A\"\n",
        "    if point >= 80: return \"B\"\n",
        "    if point >= 70: return \"C\"\n",
        "    if point >= 60: return \"D\"\n",
        "    else: return \"F\"\n",
        "def main():\n",
        "    print(\"range point from 0-100\")\n",
        "    n = eval(input(\" your point: \"))\n",
        "    print(\"your grade is a/an {0}.\".format(gradeletter(n)))\n",
        "main()\n"
      ],
      "execution_count": 14,
      "outputs": [
        {
          "output_type": "stream",
          "text": [
            "range point from 0-100\n",
            " your point: 50\n",
            "your grade is a/an F.\n"
          ],
          "name": "stdout"
        }
      ]
    }
  ]
}