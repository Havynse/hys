{
  "nbformat": 4,
  "nbformat_minor": 0,
  "metadata": {
    "colab": {
      "name": "spl4.ipynb",
      "provenance": [],
      "include_colab_link": true
    },
    "kernelspec": {
      "name": "python3",
      "display_name": "Python 3"
    }
  },
  "cells": [
    {
      "cell_type": "markdown",
      "metadata": {
        "id": "view-in-github",
        "colab_type": "text"
      },
      "source": [
        "<a href=\"https://colab.research.google.com/github/Havynse/hys/blob/master/spl5.ipynb\" target=\"_parent\"><img src=\"https://colab.research.google.com/assets/colab-badge.svg\" alt=\"Open In Colab\"/></a>"
      ]
    },
    {
      "cell_type": "code",
      "metadata": {
        "id": "IpFbvR9qbYJ_",
        "colab_type": "code",
        "colab": {
          "base_uri": "https://localhost:8080/",
          "height": 84
        },
        "outputId": "14a3e0e8-cfe9-4578-9399-4fde0ffe6474"
      },
      "source": [
        "print(\"calculates BMI and health status\")\n",
        "weight = float(input(\"Input weight(pounds): \"))\n",
        "height = float(input(\"Input height(inches): \"))\n",
        "\n",
        "BMI = (weight*720)/(height**2)\n",
        "\n",
        "if BMI > 25:\n",
        "   condition = \"above\"\n",
        "elif BMI >= 19:\n",
        "   condition = \"below\"\n",
        "print(\"your\",condition,\"the healthy standard\")"
      ],
      "execution_count": 42,
      "outputs": [
        {
          "output_type": "stream",
          "text": [
            "calculates BMI and health status\n",
            "Input weight(pounds): 25\n",
            "Input height(inches): 20\n",
            "your above the healthy standard\n"
          ],
          "name": "stdout"
        }
      ]
    },
    {
      "cell_type": "code",
      "metadata": {
        "id": "p4pq1fSTbo_D",
        "colab_type": "code",
        "colab": {}
      },
      "source": [
        ""
      ],
      "execution_count": 0,
      "outputs": []
    }
  ]
}