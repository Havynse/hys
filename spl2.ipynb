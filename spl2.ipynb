{
  "nbformat": 4,
  "nbformat_minor": 0,
  "metadata": {
    "colab": {
      "name": "spl2.ipynb",
      "provenance": [],
      "include_colab_link": true
    },
    "kernelspec": {
      "name": "python3",
      "display_name": "Python 3"
    }
  },
  "cells": [
    {
      "cell_type": "markdown",
      "metadata": {
        "id": "view-in-github",
        "colab_type": "text"
      },
      "source": [
        "<a href=\"https://colab.research.google.com/github/Havynse/hys/blob/master/spl2.ipynb\" target=\"_parent\"><img src=\"https://colab.research.google.com/assets/colab-badge.svg\" alt=\"Open In Colab\"/></a>"
      ]
    },
    {
      "cell_type": "code",
      "metadata": {
        "id": "F_MRnzmFY60d",
        "colab_type": "code",
        "colab": {
          "base_uri": "https://localhost:8080/",
          "height": 50
        },
        "outputId": "0d34f149-f670-4b02-bcab-8adf6c8c182a"
      },
      "source": [
        "score = float(input(\"Input your score:\"))\n",
        "if score >= 5:\n",
        "   grade = \"a\"\n",
        "elif score == 4:\n",
        "   grade = \"b\"\n",
        "elif score == 3:\n",
        "   grade = \"c\"\n",
        "elif score == 2:\n",
        "   grade = \"d\"\n",
        "elif score == 1:\n",
        "   grade = \"e\"\n",
        "print(\"your grade is: \", grade)"
      ],
      "execution_count": 21,
      "outputs": [
        {
          "output_type": "stream",
          "text": [
            "Input your score:1\n",
            "your grade is:  e\n"
          ],
          "name": "stdout"
        }
      ]
    }
  ]
}