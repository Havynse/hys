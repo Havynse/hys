{
  "nbformat": 4,
  "nbformat_minor": 0,
  "metadata": {
    "colab": {
      "name": "Untitled1.ipynb",
      "provenance": [],
      "include_colab_link": true
    },
    "kernelspec": {
      "name": "python3",
      "display_name": "Python 3"
    }
  },
  "cells": [
    {
      "cell_type": "markdown",
      "metadata": {
        "id": "view-in-github",
        "colab_type": "text"
      },
      "source": [
        "<a href=\"https://colab.research.google.com/github/Havynse/hys/blob/master/5.ipynb\" target=\"_parent\"><img src=\"https://colab.research.google.com/assets/colab-badge.svg\" alt=\"Open In Colab\"/></a>"
      ]
    },
    {
      "cell_type": "code",
      "metadata": {
        "id": "CuvEAJmsOw23",
        "colab_type": "code",
        "colab": {
          "base_uri": "https://localhost:8080/",
          "height": 84
        },
        "outputId": "7450f5e0-cd80-4b1b-ff91-3bf3e1205153"
      },
      "source": [
        "def BMI(weight, height):\n",
        "    BMI = (weight*720)/(height/2)\n",
        "    return BMI\n",
        "def grade(BMI):\n",
        "    if BMI > 25: return \"above\"\n",
        "    elif BMI >= 19: return \"below\"\n",
        "def main():\n",
        "   print(\"calculates BMI and health status\")\n",
        "   userW = eval(input(\"Input weight(pounds): \"))\n",
        "   userH = eval(input(\"Input height(inches): \"))\n",
        "   print(\" your {0} the healthy condition.\".format(grade(BMI(userW,userH))))\n",
        "main()\n"
      ],
      "execution_count": 4,
      "outputs": [
        {
          "output_type": "stream",
          "text": [
            "calculates BMI and health status\n",
            "Input weight(pounds): 5\n",
            "Input height(inches): 8\n",
            " your above the healthy condition.\n"
          ],
          "name": "stdout"
        }
      ]
    }
  ]
}