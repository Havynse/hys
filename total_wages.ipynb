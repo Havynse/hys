{
  "nbformat": 4,
  "nbformat_minor": 0,
  "metadata": {
    "colab": {
      "name": "total wages.ipynb",
      "provenance": [],
      "include_colab_link": true
    },
    "kernelspec": {
      "name": "python3",
      "display_name": "Python 3"
    }
  },
  "cells": [
    {
      "cell_type": "markdown",
      "metadata": {
        "id": "view-in-github",
        "colab_type": "text"
      },
      "source": [
        "<a href=\"https://colab.research.google.com/github/Havynse/hys/blob/master/total_wages.ipynb\" target=\"_parent\"><img src=\"https://colab.research.google.com/assets/colab-badge.svg\" alt=\"Open In Colab\"/></a>"
      ]
    },
    {
      "cell_type": "code",
      "metadata": {
        "id": "fiCBIOHO4FBn",
        "colab_type": "code",
        "colab": {}
      },
      "source": [
        "hours = float(input(\"the number of hours worked:\"))\n",
        "rate = float(input(\"the hourly rate:\"))\n",
        "print(\"your wage for the week is $\")\n",
        "if hours <= 40:\n",
        "   print(hours * rate)\n",
        "else:\n",
        "  # overtime = (hours-40)*overtimerate\n",
        "  #  overtime = 1.5*rate\n",
        "   print(40 * 10 + (hours - 40)* 1.5 * rate)\n"
      ],
      "execution_count": 0,
      "outputs": []
    }
  ]
}