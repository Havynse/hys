{
  "nbformat": 4,
  "nbformat_minor": 0,
  "metadata": {
    "colab": {
      "name": "Untitled1.ipynb",
      "provenance": [],
      "include_colab_link": true
    },
    "kernelspec": {
      "name": "python3",
      "display_name": "Python 3"
    }
  },
  "cells": [
    {
      "cell_type": "markdown",
      "metadata": {
        "id": "view-in-github",
        "colab_type": "text"
      },
      "source": [
        "<a href=\"https://colab.research.google.com/github/Havynse/hys/blob/master/4.ipynb\" target=\"_parent\"><img src=\"https://colab.research.google.com/assets/colab-badge.svg\" alt=\"Open In Colab\"/></a>"
      ]
    },
    {
      "cell_type": "code",
      "metadata": {
        "id": "mlolsYHEN_9D",
        "colab_type": "code",
        "colab": {
          "base_uri": "https://localhost:8080/",
          "height": 67
        },
        "outputId": "dbb78047-ee8e-4a9f-ca6b-c9e349a7913c"
      },
      "source": [
        "def grade(credits):\n",
        "    if credits < 6: return \"freshman\"\n",
        "    if credits <= 7 : return \"sohpomore\"\n",
        "    if credits <= 16 : return \"junior\"\n",
        "    if credits <= 26 : return \"senior\"\n",
        "def main():\n",
        "    print(\" the progam that calcualtes calss standing from the number of credits earned\")\n",
        "    n = eval(input(\"your credits\"))\n",
        "    print(\"you are a/an {0}.\".format(grade(n)))\n",
        "main()"
      ],
      "execution_count": 1,
      "outputs": [
        {
          "output_type": "stream",
          "text": [
            " the progam that calcualtes calss standing from the number of credits earned\n",
            "your credits25\n",
            "you are a/an senior.\n"
          ],
          "name": "stdout"
        }
      ]
    },
    {
      "cell_type": "code",
      "metadata": {
        "id": "CuvEAJmsOw23",
        "colab_type": "code",
        "colab": {}
      },
      "source": [
        ""
      ],
      "execution_count": 0,
      "outputs": []
    }
  ]
}