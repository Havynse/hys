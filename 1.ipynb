{
  "nbformat": 4,
  "nbformat_minor": 0,
  "metadata": {
    "colab": {
      "name": "3",
      "provenance": [],
      "collapsed_sections": [],
      "include_colab_link": true
    },
    "kernelspec": {
      "name": "python3",
      "display_name": "Python 3"
    }
  },
  "cells": [
    {
      "cell_type": "markdown",
      "metadata": {
        "id": "view-in-github",
        "colab_type": "text"
      },
      "source": [
        "<a href=\"https://colab.research.google.com/github/Havynse/hys/blob/master/1.ipynb\" target=\"_parent\"><img src=\"https://colab.research.google.com/assets/colab-badge.svg\" alt=\"Open In Colab\"/></a>"
      ]
    },
    {
      "cell_type": "markdown",
      "metadata": {
        "id": "np_bZkZLyLx1",
        "colab_type": "text"
      },
      "source": [
        ""
      ]
    },
    {
      "cell_type": "code",
      "metadata": {
        "id": "ZNQHW-RWxgF7",
        "colab_type": "code",
        "outputId": "36ae6f86-26a4-4e22-8851-27beb16c715d",
        "colab": {
          "base_uri": "https://localhost:8080/",
          "height": 50
        }
      },
      "source": [
        "hours = float(input('the number of hours worked'))\n",
        "rate = float(input('the hourly rate'))\n",
        "if hours > 40 :\n",
        "  # work for more 40 hours earns the over time rate \n",
        "  overtimerate = 1.5*rate \n",
        "  overtime = (hours-40)*overtimerate\n",
        "  # work 40 hours earn the regular rate\n",
        "  hours = 40\n",
        "else:\n",
        "  # if there is no overtime rate if you didn't work for more 40 hours\n",
        "  overtime = 0\n",
        "  print(regular = hours * rate)\n",
        "  print(regular * rate)\n",
        "  \n",
        "  \n",
        "\n"
      ],
      "execution_count": 1,
      "outputs": [
        {
          "output_type": "stream",
          "text": [
            "the number of hours worked50\n",
            "the hourly rate5\n"
          ],
          "name": "stdout"
        }
      ]
    },
    {
      "cell_type": "code",
      "metadata": {
        "id": "jGqY6TKt0t12",
        "colab_type": "code",
        "outputId": "1b2d7166-9a2b-4d9d-8aee-79c092cdc8c2",
        "colab": {
          "base_uri": "https://localhost:8080/",
          "height": 34
        }
      },
      "source": [
        "hours = float(input(' how many hours did you work? '))\n",
        "rate = 1.50\n",
        "rate = (hours/2)+ hours*(rate+1.5)\n",
        "if hours<40:\n",
        "  print(\"you earn\",rate)"
      ],
      "execution_count": 0,
      "outputs": [
        {
          "output_type": "stream",
          "text": [
            " how many hours did you work? 50\n"
          ],
          "name": "stdout"
        }
      ]
    }
  ]
}