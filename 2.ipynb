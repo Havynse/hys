{
  "nbformat": 4,
  "nbformat_minor": 0,
  "metadata": {
    "colab": {
      "name": "Untitled3.ipynb",
      "provenance": [],
      "include_colab_link": true
    },
    "kernelspec": {
      "name": "python3",
      "display_name": "Python 3"
    }
  },
  "cells": [
    {
      "cell_type": "markdown",
      "metadata": {
        "id": "view-in-github",
        "colab_type": "text"
      },
      "source": [
        "<a href=\"https://colab.research.google.com/github/Havynse/hys/blob/master/2.ipynb\" target=\"_parent\"><img src=\"https://colab.research.google.com/assets/colab-badge.svg\" alt=\"Open In Colab\"/></a>"
      ]
    },
    {
      "cell_type": "code",
      "metadata": {
        "id": "qMoh8VIS6BtC",
        "colab_type": "code",
        "outputId": "9832a092-4f09-4f14-9e5c-ca37b88d6cc2",
        "colab": {
          "base_uri": "https://localhost:8080/",
          "height": 87
        }
      },
      "source": [
        "\n",
        "def grade(score):\n",
        "    if score >= 5:\n",
        "      return \"A\"\n",
        "    elif score == 4:\n",
        "      return \"B\"\n",
        "    elif score == 3:\n",
        "      return \"C\"\n",
        "    elif score == 2:\n",
        "      return \"D\"\n",
        "    elif score == 1:\n",
        "      return \"F\"\n",
        "    elif score == 0:\n",
        "      return \"E\"\n",
        "def main():\n",
        "    print(\" program that accepts a quiz score as an input and uses a decision structure to calculate the corresponding grade\")\n",
        "    n = eval(input(\"your score:\"))\n",
        "    print(\"your grade is a/an {0}.\".format(grade(n)))\n",
        "main()\n"
      ],
      "execution_count": 0,
      "outputs": [
        {
          "output_type": "stream",
          "text": [
            " program that accepts a quiz score as an input and uses a decision structure to calculate the corresponding grade\n",
            "your score:1\n",
            "your grade is a/an F.\n"
          ],
          "name": "stdout"
        }
      ]
    },
    {
      "cell_type": "code",
      "metadata": {
        "id": "8yprNwHV9Bz5",
        "colab_type": "code",
        "colab": {}
      },
      "source": [
        ""
      ],
      "execution_count": 0,
      "outputs": []
    },
    {
      "cell_type": "markdown",
      "metadata": {
        "id": "8plCYUz69CFI",
        "colab_type": "text"
      },
      "source": [
        ""
      ]
    }
  ]
}