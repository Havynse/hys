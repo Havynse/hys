{
  "nbformat": 4,
  "nbformat_minor": 0,
  "metadata": {
    "colab": {
      "name": "spl4.ipynb",
      "provenance": [],
      "include_colab_link": true
    },
    "kernelspec": {
      "name": "python3",
      "display_name": "Python 3"
    }
  },
  "cells": [
    {
      "cell_type": "markdown",
      "metadata": {
        "id": "view-in-github",
        "colab_type": "text"
      },
      "source": [
        "<a href=\"https://colab.research.google.com/github/Havynse/hys/blob/master/spl4.ipynb\" target=\"_parent\"><img src=\"https://colab.research.google.com/assets/colab-badge.svg\" alt=\"Open In Colab\"/></a>"
      ]
    },
    {
      "cell_type": "code",
      "metadata": {
        "id": "FawKz_k2aDLW",
        "colab_type": "code",
        "colab": {
          "base_uri": "https://localhost:8080/",
          "height": 67
        },
        "outputId": "ed6b8191-b7d7-47c7-90ae-1476e2336d35"
      },
      "source": [
        "print(\"the progam that calcualtes calss standing from the number of credits earned\")\n",
        "credits = float(input(\"input your credits: \"))\n",
        "if credits < 6: \n",
        "   title = \"freshman\"\n",
        "elif credits <= 7:\n",
        "   title = \"sopohmore\"\n",
        "elif credits <= 16:\n",
        "   title = \"junior\"\n",
        "elif credits <= 26:\n",
        "   title = \"senior\"\n",
        "print(\"Your are a/an: \",title)"
      ],
      "execution_count": 24,
      "outputs": [
        {
          "output_type": "stream",
          "text": [
            "the progam that calcualtes calss standing from the number of credits earned\n",
            "input your credits: 26\n",
            "Your are a/an:  senior\n"
          ],
          "name": "stdout"
        }
      ]
    }
  ]
}