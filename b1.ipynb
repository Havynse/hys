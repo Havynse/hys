{
  "nbformat": 4,
  "nbformat_minor": 0,
  "metadata": {
    "colab": {
      "name": "Untitled4.ipynb",
      "provenance": [],
      "include_colab_link": true
    },
    "kernelspec": {
      "name": "python3",
      "display_name": "Python 3"
    }
  },
  "cells": [
    {
      "cell_type": "markdown",
      "metadata": {
        "id": "view-in-github",
        "colab_type": "text"
      },
      "source": [
        "<a href=\"https://colab.research.google.com/github/Havynse/hys/blob/master/b1.ipynb\" target=\"_parent\"><img src=\"https://colab.research.google.com/assets/colab-badge.svg\" alt=\"Open In Colab\"/></a>"
      ]
    },
    {
      "cell_type": "code",
      "metadata": {
        "id": "1HlmTp2CLCbn",
        "colab_type": "code",
        "colab": {
          "base_uri": "https://localhost:8080/",
          "height": 84
        },
        "outputId": "4e8e3480-3908-4bc8-ff41-202bc00d18ad"
      },
      "source": [
        "hours = float(input(\"the number of hours worked:\"))\n",
        "rate = float(input(\"the hourly rate:\"))\n",
        "print(\"your wage for the week is $\")\n",
        "if hours <= 40:\n",
        "   print(hours * rate)\n",
        "else:\n",
        "   print(40 * 10 + (hours - 40) * 1.5 * rate)\n",
        "  \n",
        "\n"
      ],
      "execution_count": 35,
      "outputs": [
        {
          "output_type": "stream",
          "text": [
            "the number of hours worked:62\n",
            "the hourly rate:2\n",
            "your wage for the week is $\n",
            "466.0\n"
          ],
          "name": "stdout"
        }
      ]
    }
  ]
}